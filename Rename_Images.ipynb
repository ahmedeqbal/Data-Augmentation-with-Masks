{
 "cells": [
  {
   "cell_type": "code",
   "execution_count": 11,
   "metadata": {},
   "outputs": [],
   "source": [
    "import os\n",
    "import re\n",
    "from PIL import Image\n",
    "\n",
    "# Total Number of images\n",
    "i = 18\n",
    "\n",
    "# Images and mask path\n",
    "img_path = \"C:/Users/ahmed/Desktop/Augmentor/augment_images/\"\n",
    "msk_path = \"C:/Users/ahmed/Desktop/Augmentor/augment_masks/\"\n",
    "\n",
    "# Remove \"images_original_\\d+.jpg_\" strings from Images\n",
    "for filename in os.listdir(img_path):\n",
    "    search   = 'images_original_\\d+.jpg_'\n",
    "    new_file = re.sub(search, '', filename)\n",
    "    dest = img_path + new_file\n",
    "    \n",
    "    os.rename(img_path + filename, dest)\n",
    "    i += 1\n",
    "\n",
    "# Remove \"_groundtruth_.*_images_\\d+.jpg_\" strings from masks   \n",
    "for filename in os.listdir(msk_path):\n",
    "    search   = '_groundtruth_.*_images_\\d+.jpg_'\n",
    "    new_file = re.sub(search, '', filename)\n",
    "    dest = msk_path + new_file\n",
    "    \n",
    "    os.rename(msk_path + filename, dest)\n",
    "    i += 1"
   ]
  }
 ],
 "metadata": {
  "kernelspec": {
   "display_name": "Python 3",
   "language": "python",
   "name": "python3"
  },
  "language_info": {
   "codemirror_mode": {
    "name": "ipython",
    "version": 3
   },
   "file_extension": ".py",
   "mimetype": "text/x-python",
   "name": "python",
   "nbconvert_exporter": "python",
   "pygments_lexer": "ipython3",
   "version": "3.7.4"
  }
 },
 "nbformat": 4,
 "nbformat_minor": 4
}
