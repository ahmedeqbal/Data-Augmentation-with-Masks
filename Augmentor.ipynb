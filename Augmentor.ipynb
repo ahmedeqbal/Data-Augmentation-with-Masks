{
 "cells": [
  {
   "cell_type": "code",
   "execution_count": null,
   "metadata": {},
   "outputs": [],
   "source": [
    "pip install Augmentor"
   ]
  },
  {
   "cell_type": "code",
   "execution_count": 10,
   "metadata": {},
   "outputs": [
    {
     "name": "stdout",
     "output_type": "stream",
     "text": [
      "Initialised with 6 image(s) found.\n",
      "Output directory set to C:/Users/ahmed/Desktop/Augmentor/images/output."
     ]
    },
    {
     "name": "stderr",
     "output_type": "stream",
     "text": [
      "                                                      \r"
     ]
    },
    {
     "name": "stdout",
     "output_type": "stream",
     "text": [
      "6 ground truth image(s) found.\n"
     ]
    },
    {
     "name": "stderr",
     "output_type": "stream",
     "text": [
      "Processing <PIL.Image.Image image mode=RGB size=400x300 at 0x252FF3B4548>: 100%|██████████| 18/18 [00:00<00:00, 41.59 Samples/s]\n"
     ]
    }
   ],
   "source": [
    "import Augmentor\n",
    "\n",
    "p = Augmentor.Pipeline(\"C:/Users/ahmed/Desktop/Augmentor/images/\")\n",
    "# Point to a directory containing ground truth data.\n",
    "# Images with the same file names will be added as ground truth data\n",
    "# and augmented in parallel to the original data.\n",
    "p.ground_truth(\"C:/Users/ahmed/Desktop/Augmentor/masks/\")\n",
    "\n",
    "# Add operations to the pipeline as normal:\n",
    "p.flip_left_right(probability=1)\n",
    "p.shear(probability=1, max_shear_left=10, max_shear_right=10)\n",
    "p.zoom(probability=0.5, min_factor=1.1, max_factor=1.5)\n",
    "p.sample(18)\n",
    "\n",
    "# Default Setting\n",
    "# p.random_distortion (probability = 0.5, grid_width = 4, grid_height = 4, magnitude = 5)\n",
    "# p.random_contrast (probability = 0.5, min_factor = 0.5, max_factor = 1)\n",
    "# p.random_color (probability = 0.5, min_factor = 0.8, max_factor = 1)\n",
    "# p.random_brightness (probability = 0.5, min_factor = 0.3, max_factor = 1)\n",
    "# p.rotate_random_90 (probability = 0.5)\n",
    "# p.shear (probability = 0.5, max_shear_left = 10, max_shear_right = 10)\n",
    "# p.flip_left_right (probability = 0.5)\n",
    "# p.flip_top_bottom (probability = 0.5)\n",
    "# p.greyscale (probability = 0.1)\n",
    "# p.zoom_random (probability = 0.3, percentage_area = 0.8, randomise_percentage_area = False)"
   ]
  },
  {
   "cell_type": "code",
   "execution_count": null,
   "metadata": {},
   "outputs": [],
   "source": []
  }
 ],
 "metadata": {
  "kernelspec": {
   "display_name": "Python 3",
   "language": "python",
   "name": "python3"
  },
  "language_info": {
   "codemirror_mode": {
    "name": "ipython",
    "version": 3
   },
   "file_extension": ".py",
   "mimetype": "text/x-python",
   "name": "python",
   "nbconvert_exporter": "python",
   "pygments_lexer": "ipython3",
   "version": "3.7.4"
  }
 },
 "nbformat": 4,
 "nbformat_minor": 4
}
